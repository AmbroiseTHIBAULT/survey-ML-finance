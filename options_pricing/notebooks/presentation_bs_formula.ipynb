{
 "cells": [
  {
   "cell_type": "markdown",
   "metadata": {},
   "source": [
    "# Introduction\n",
    "This notebook aims to present the Black-Scholes formula to price european call and put options by giving concrete examples. \n"
   ]
  },
  {
   "cell_type": "markdown",
   "metadata": {},
   "source": [
    "# Mathematical approach of financial markets\n",
    "\n",
    "## Assets and portfolio\n",
    "We we use a model with two type of assets : \n",
    "- Risky asset : a stock denoted by $S$\n",
    "- Risk free asset : a bond, a bank account ('Livret A') ... denoted $B$ with a short interest rate $r$\n",
    "\n",
    "We can use these assets to build a portfolio $h(x,y)$ where $x$ is the number of risk free asset and $y$ is the number of risky asset. \n",
    "The value of the portfolio at time $t$ is : \n",
    "$$ V_t^h = xB_t + yS_t$$\n",
    "\n",
    "## Continuous time market model\n",
    "\n",
    "We consider a family of assets : $\\left\\{S_t^i\\right\\} _{t\\geq0}$ \n",
    "\n",
    "Where : \n",
    "- $S^o = B$ is the risk free asset\n",
    "- $ S^i \\quad i=1,...,N$ are risky assets\n",
    "\n",
    "The risk asset has the following dynamic : \n",
    "$$ dB_t = r_tB_tdt $$\n",
    "\n",
    "And the risky asset has the dynamic : \n",
    "$$ dS_t^i = S_t^i \\mu_t^i + S_t^i\\sigma_t^idW_t^{\\mathbb{P}, i}$$\n",
    "Where $\\mu$ is the local rate of return and $\\sigma$ the volatility of the risky asset\n",
    "\n",
    "## Black-Scholes model\n",
    "\n",
    "The Black-Scholes model is a priori market model where we only have two assets : $B$ and $S$ with the following dynamics : \n",
    "$$dB_t = rB_tdt$$\n",
    "$$dS_t = \\mu S_t dt + \\sigma S_tdW_t^{\\mathbb{P}}$$\n",
    "\n",
    "Where $\\mu$ and $\\sigma$ are two constants\n",
    "\n",
    "\n",
    "## Pricing of financial derivatives, contingent claim\n",
    "\n",
    "### General definition\n",
    "A financial derivative or contingent claim is financial product whose value is derived from the value of an underlying asset. The derivative is a contract between parties (in general two) and its value is determined by the value of the underlying asset.\n",
    "\n",
    "In our case, the underlying asset will be the risky asset $S$ and we will denote $\\mathcal{X}$ the contingent claim where the time to the maturity of the contract is denoted $T$. It means that at time $T$ it will be possible to determine the amount of money to be paid out. And this price is determine by the contract function $\\Phi$ such that : \n",
    "$$ \\mathcal{X} = \\Phi(S(T))$$\n",
    "It means that at time $T$ the holder of the contract will obtain $\\mathcal{X}$ $,€... \n",
    "\n",
    "Our goal is to determine a \"fair\" price for this contract. This price is denoted \n",
    "$$\\Pi(t;\\mathcal{X})$$\n",
    "\n",
    "\n",
    "### European options"
   ]
  },
  {
   "cell_type": "markdown",
   "metadata": {},
   "source": []
  },
  {
   "cell_type": "markdown",
   "metadata": {},
   "source": []
  },
  {
   "cell_type": "markdown",
   "metadata": {},
   "source": []
  },
  {
   "cell_type": "markdown",
   "metadata": {},
   "source": []
  },
  {
   "cell_type": "code",
   "execution_count": null,
   "metadata": {
    "vscode": {
     "languageId": "plaintext"
    }
   },
   "outputs": [],
   "source": []
  },
  {
   "cell_type": "markdown",
   "metadata": {},
   "source": []
  },
  {
   "cell_type": "markdown",
   "metadata": {},
   "source": []
  },
  {
   "cell_type": "markdown",
   "metadata": {},
   "source": []
  },
  {
   "cell_type": "markdown",
   "metadata": {},
   "source": []
  }
 ],
 "metadata": {
  "language_info": {
   "name": "python"
  }
 },
 "nbformat": 4,
 "nbformat_minor": 2
}
