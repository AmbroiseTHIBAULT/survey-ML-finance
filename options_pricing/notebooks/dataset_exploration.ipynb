{
 "cells": [
  {
   "cell_type": "markdown",
   "metadata": {},
   "source": [
    "This notebook is just a place where I test different things related to the differents datasource"
   ]
  },
  {
   "cell_type": "code",
   "execution_count": 1,
   "metadata": {},
   "outputs": [],
   "source": [
    "# We import the necessary libraries\n",
    "import pandas as pd\n",
    "import numpy as np\n",
    "import sys\n",
    "import os\n",
    "chemin_dev = os.path.abspath(os.path.join(os.getcwd(), '../..'))\n",
    "if chemin_dev not in sys.path:\n",
    "    sys.path.append(chemin_dev)"
   ]
  },
  {
   "cell_type": "code",
   "execution_count": 2,
   "metadata": {},
   "outputs": [],
   "source": [
    "df_options= pd.read_csv('../../data/options/dolt_hub_1million.csv')"
   ]
  },
  {
   "cell_type": "code",
   "execution_count": 3,
   "metadata": {},
   "outputs": [
    {
     "data": {
      "text/html": [
       "<div>\n",
       "<style scoped>\n",
       "    .dataframe tbody tr th:only-of-type {\n",
       "        vertical-align: middle;\n",
       "    }\n",
       "\n",
       "    .dataframe tbody tr th {\n",
       "        vertical-align: top;\n",
       "    }\n",
       "\n",
       "    .dataframe thead th {\n",
       "        text-align: right;\n",
       "    }\n",
       "</style>\n",
       "<table border=\"1\" class=\"dataframe\">\n",
       "  <thead>\n",
       "    <tr style=\"text-align: right;\">\n",
       "      <th></th>\n",
       "      <th>date</th>\n",
       "      <th>act_symbol</th>\n",
       "      <th>expiration</th>\n",
       "      <th>strike</th>\n",
       "      <th>call_put</th>\n",
       "      <th>bid</th>\n",
       "      <th>ask</th>\n",
       "      <th>vol</th>\n",
       "      <th>delta</th>\n",
       "      <th>gamma</th>\n",
       "      <th>theta</th>\n",
       "      <th>vega</th>\n",
       "      <th>rho</th>\n",
       "    </tr>\n",
       "  </thead>\n",
       "  <tbody>\n",
       "    <tr>\n",
       "      <th>0</th>\n",
       "      <td>2019-05-10</td>\n",
       "      <td>A</td>\n",
       "      <td>2019-05-17</td>\n",
       "      <td>65.0</td>\n",
       "      <td>Call</td>\n",
       "      <td>10.10</td>\n",
       "      <td>13.35</td>\n",
       "      <td>0.5636</td>\n",
       "      <td>0.9873</td>\n",
       "      <td>0.0055</td>\n",
       "      <td>-0.0185</td>\n",
       "      <td>0.0035</td>\n",
       "      <td>0.0122</td>\n",
       "    </tr>\n",
       "    <tr>\n",
       "      <th>1</th>\n",
       "      <td>2019-05-10</td>\n",
       "      <td>A</td>\n",
       "      <td>2019-05-17</td>\n",
       "      <td>65.0</td>\n",
       "      <td>Put</td>\n",
       "      <td>0.01</td>\n",
       "      <td>0.07</td>\n",
       "      <td>0.5636</td>\n",
       "      <td>-0.0127</td>\n",
       "      <td>0.0055</td>\n",
       "      <td>-0.0141</td>\n",
       "      <td>0.0035</td>\n",
       "      <td>-0.0002</td>\n",
       "    </tr>\n",
       "    <tr>\n",
       "      <th>2</th>\n",
       "      <td>2019-05-10</td>\n",
       "      <td>A</td>\n",
       "      <td>2019-05-17</td>\n",
       "      <td>70.0</td>\n",
       "      <td>Call</td>\n",
       "      <td>6.60</td>\n",
       "      <td>7.70</td>\n",
       "      <td>0.3212</td>\n",
       "      <td>0.9863</td>\n",
       "      <td>0.0102</td>\n",
       "      <td>-0.0133</td>\n",
       "      <td>0.0037</td>\n",
       "      <td>0.0132</td>\n",
       "    </tr>\n",
       "    <tr>\n",
       "      <th>3</th>\n",
       "      <td>2019-05-10</td>\n",
       "      <td>A</td>\n",
       "      <td>2019-05-17</td>\n",
       "      <td>70.0</td>\n",
       "      <td>Put</td>\n",
       "      <td>0.21</td>\n",
       "      <td>0.24</td>\n",
       "      <td>0.5252</td>\n",
       "      <td>-0.0850</td>\n",
       "      <td>0.0278</td>\n",
       "      <td>-0.0619</td>\n",
       "      <td>0.0166</td>\n",
       "      <td>-0.0013</td>\n",
       "    </tr>\n",
       "    <tr>\n",
       "      <th>4</th>\n",
       "      <td>2019-05-10</td>\n",
       "      <td>A</td>\n",
       "      <td>2019-05-17</td>\n",
       "      <td>72.5</td>\n",
       "      <td>Call</td>\n",
       "      <td>5.05</td>\n",
       "      <td>5.25</td>\n",
       "      <td>0.4973</td>\n",
       "      <td>0.8252</td>\n",
       "      <td>0.0486</td>\n",
       "      <td>-0.1018</td>\n",
       "      <td>0.0275</td>\n",
       "      <td>0.0112</td>\n",
       "    </tr>\n",
       "  </tbody>\n",
       "</table>\n",
       "</div>"
      ],
      "text/plain": [
       "         date act_symbol  expiration  strike call_put    bid    ask     vol  \\\n",
       "0  2019-05-10          A  2019-05-17    65.0     Call  10.10  13.35  0.5636   \n",
       "1  2019-05-10          A  2019-05-17    65.0      Put   0.01   0.07  0.5636   \n",
       "2  2019-05-10          A  2019-05-17    70.0     Call   6.60   7.70  0.3212   \n",
       "3  2019-05-10          A  2019-05-17    70.0      Put   0.21   0.24  0.5252   \n",
       "4  2019-05-10          A  2019-05-17    72.5     Call   5.05   5.25  0.4973   \n",
       "\n",
       "    delta   gamma   theta    vega     rho  \n",
       "0  0.9873  0.0055 -0.0185  0.0035  0.0122  \n",
       "1 -0.0127  0.0055 -0.0141  0.0035 -0.0002  \n",
       "2  0.9863  0.0102 -0.0133  0.0037  0.0132  \n",
       "3 -0.0850  0.0278 -0.0619  0.0166 -0.0013  \n",
       "4  0.8252  0.0486 -0.1018  0.0275  0.0112  "
      ]
     },
     "execution_count": 3,
     "metadata": {},
     "output_type": "execute_result"
    }
   ],
   "source": [
    "df_options.head()"
   ]
  },
  {
   "cell_type": "code",
   "execution_count": 4,
   "metadata": {},
   "outputs": [
    {
     "data": {
      "text/plain": [
       "(1000000, 13)"
      ]
     },
     "execution_count": 4,
     "metadata": {},
     "output_type": "execute_result"
    }
   ],
   "source": [
    "df_options.shape"
   ]
  },
  {
   "cell_type": "code",
   "execution_count": 5,
   "metadata": {},
   "outputs": [
    {
     "data": {
      "text/plain": [
       "1678"
      ]
     },
     "execution_count": 5,
     "metadata": {},
     "output_type": "execute_result"
    }
   ],
   "source": [
    "len(df_options['act_symbol'].unique())"
   ]
  },
  {
   "cell_type": "code",
   "execution_count": 6,
   "metadata": {},
   "outputs": [
    {
     "data": {
      "text/plain": [
       "('2019-05-10', '2020-02-21')"
      ]
     },
     "execution_count": 6,
     "metadata": {},
     "output_type": "execute_result"
    }
   ],
   "source": [
    "df_options['date'].min(), df_options['date'].max()"
   ]
  },
  {
   "cell_type": "code",
   "execution_count": 5,
   "metadata": {},
   "outputs": [],
   "source": [
    "df_options['price'] = (df_options['bid'] + df_options['ask']) / 2"
   ]
  },
  {
   "cell_type": "code",
   "execution_count": 6,
   "metadata": {},
   "outputs": [
    {
     "data": {
      "text/html": [
       "<div>\n",
       "<style scoped>\n",
       "    .dataframe tbody tr th:only-of-type {\n",
       "        vertical-align: middle;\n",
       "    }\n",
       "\n",
       "    .dataframe tbody tr th {\n",
       "        vertical-align: top;\n",
       "    }\n",
       "\n",
       "    .dataframe thead th {\n",
       "        text-align: right;\n",
       "    }\n",
       "</style>\n",
       "<table border=\"1\" class=\"dataframe\">\n",
       "  <thead>\n",
       "    <tr style=\"text-align: right;\">\n",
       "      <th></th>\n",
       "      <th>date</th>\n",
       "      <th>act_symbol</th>\n",
       "      <th>expiration</th>\n",
       "      <th>strike</th>\n",
       "      <th>call_put</th>\n",
       "      <th>bid</th>\n",
       "      <th>ask</th>\n",
       "      <th>vol</th>\n",
       "      <th>delta</th>\n",
       "      <th>gamma</th>\n",
       "      <th>theta</th>\n",
       "      <th>vega</th>\n",
       "      <th>rho</th>\n",
       "      <th>price</th>\n",
       "    </tr>\n",
       "  </thead>\n",
       "  <tbody>\n",
       "    <tr>\n",
       "      <th>0</th>\n",
       "      <td>2019-05-10</td>\n",
       "      <td>A</td>\n",
       "      <td>2019-05-17</td>\n",
       "      <td>65.0</td>\n",
       "      <td>Call</td>\n",
       "      <td>10.10</td>\n",
       "      <td>13.35</td>\n",
       "      <td>0.5636</td>\n",
       "      <td>0.9873</td>\n",
       "      <td>0.0055</td>\n",
       "      <td>-0.0185</td>\n",
       "      <td>0.0035</td>\n",
       "      <td>0.0122</td>\n",
       "      <td>11.725</td>\n",
       "    </tr>\n",
       "    <tr>\n",
       "      <th>1</th>\n",
       "      <td>2019-05-10</td>\n",
       "      <td>A</td>\n",
       "      <td>2019-05-17</td>\n",
       "      <td>65.0</td>\n",
       "      <td>Put</td>\n",
       "      <td>0.01</td>\n",
       "      <td>0.07</td>\n",
       "      <td>0.5636</td>\n",
       "      <td>-0.0127</td>\n",
       "      <td>0.0055</td>\n",
       "      <td>-0.0141</td>\n",
       "      <td>0.0035</td>\n",
       "      <td>-0.0002</td>\n",
       "      <td>0.040</td>\n",
       "    </tr>\n",
       "    <tr>\n",
       "      <th>2</th>\n",
       "      <td>2019-05-10</td>\n",
       "      <td>A</td>\n",
       "      <td>2019-05-17</td>\n",
       "      <td>70.0</td>\n",
       "      <td>Call</td>\n",
       "      <td>6.60</td>\n",
       "      <td>7.70</td>\n",
       "      <td>0.3212</td>\n",
       "      <td>0.9863</td>\n",
       "      <td>0.0102</td>\n",
       "      <td>-0.0133</td>\n",
       "      <td>0.0037</td>\n",
       "      <td>0.0132</td>\n",
       "      <td>7.150</td>\n",
       "    </tr>\n",
       "    <tr>\n",
       "      <th>3</th>\n",
       "      <td>2019-05-10</td>\n",
       "      <td>A</td>\n",
       "      <td>2019-05-17</td>\n",
       "      <td>70.0</td>\n",
       "      <td>Put</td>\n",
       "      <td>0.21</td>\n",
       "      <td>0.24</td>\n",
       "      <td>0.5252</td>\n",
       "      <td>-0.0850</td>\n",
       "      <td>0.0278</td>\n",
       "      <td>-0.0619</td>\n",
       "      <td>0.0166</td>\n",
       "      <td>-0.0013</td>\n",
       "      <td>0.225</td>\n",
       "    </tr>\n",
       "    <tr>\n",
       "      <th>4</th>\n",
       "      <td>2019-05-10</td>\n",
       "      <td>A</td>\n",
       "      <td>2019-05-17</td>\n",
       "      <td>72.5</td>\n",
       "      <td>Call</td>\n",
       "      <td>5.05</td>\n",
       "      <td>5.25</td>\n",
       "      <td>0.4973</td>\n",
       "      <td>0.8252</td>\n",
       "      <td>0.0486</td>\n",
       "      <td>-0.1018</td>\n",
       "      <td>0.0275</td>\n",
       "      <td>0.0112</td>\n",
       "      <td>5.150</td>\n",
       "    </tr>\n",
       "  </tbody>\n",
       "</table>\n",
       "</div>"
      ],
      "text/plain": [
       "         date act_symbol  expiration  strike call_put    bid    ask     vol  \\\n",
       "0  2019-05-10          A  2019-05-17    65.0     Call  10.10  13.35  0.5636   \n",
       "1  2019-05-10          A  2019-05-17    65.0      Put   0.01   0.07  0.5636   \n",
       "2  2019-05-10          A  2019-05-17    70.0     Call   6.60   7.70  0.3212   \n",
       "3  2019-05-10          A  2019-05-17    70.0      Put   0.21   0.24  0.5252   \n",
       "4  2019-05-10          A  2019-05-17    72.5     Call   5.05   5.25  0.4973   \n",
       "\n",
       "    delta   gamma   theta    vega     rho   price  \n",
       "0  0.9873  0.0055 -0.0185  0.0035  0.0122  11.725  \n",
       "1 -0.0127  0.0055 -0.0141  0.0035 -0.0002   0.040  \n",
       "2  0.9863  0.0102 -0.0133  0.0037  0.0132   7.150  \n",
       "3 -0.0850  0.0278 -0.0619  0.0166 -0.0013   0.225  \n",
       "4  0.8252  0.0486 -0.1018  0.0275  0.0112   5.150  "
      ]
     },
     "execution_count": 6,
     "metadata": {},
     "output_type": "execute_result"
    }
   ],
   "source": [
    "df_options.head()"
   ]
  },
  {
   "cell_type": "code",
   "execution_count": 10,
   "metadata": {},
   "outputs": [
    {
     "name": "stdout",
     "output_type": "stream",
     "text": [
      "2019-05-10\n"
     ]
    },
    {
     "data": {
      "text/plain": [
       "'2020-02-21'"
      ]
     },
     "execution_count": 10,
     "metadata": {},
     "output_type": "execute_result"
    }
   ],
   "source": [
    "print(df_options['date'].min())\n",
    "df_options['date'].max()"
   ]
  },
  {
   "cell_type": "code",
   "execution_count": 7,
   "metadata": {},
   "outputs": [],
   "source": [
    "df_stock = pd.read_csv('../../data/options/stock_prices_2.csv') "
   ]
  },
  {
   "cell_type": "code",
   "execution_count": 8,
   "metadata": {},
   "outputs": [
    {
     "data": {
      "text/plain": [
       "<bound method DataFrame.info of                date act_symbol   open   high    low  close     volume\n",
       "0        2019-05-10          A  76.64  77.14  74.09  77.10  2850458.0\n",
       "1        2019-05-10         AA  24.73  25.31  24.27  25.04  3550959.0\n",
       "2        2019-05-10       AAAU  12.85  12.87  12.83  12.85    12571.0\n",
       "3        2019-05-10       AABA  72.34  72.97  70.28  71.87  5860342.0\n",
       "4        2019-05-10        AAC   1.89   1.98   1.70   1.73   200742.0\n",
       "...             ...        ...    ...    ...    ...    ...        ...\n",
       "1567248  2020-02-21        ZUO  16.01  16.01  15.40  15.63  1101994.0\n",
       "1567249  2020-02-21        ZVO   2.01   2.04   1.69   1.90   286815.0\n",
       "1567250  2020-02-21       ZYME  45.64  46.24  44.62  44.63   221744.0\n",
       "1567251  2020-02-21       ZYNE   4.81   4.98   4.69   4.92   405676.0\n",
       "1567252  2020-02-21       ZYXI  11.08  12.26  11.02  11.86   692467.0\n",
       "\n",
       "[1567253 rows x 7 columns]>"
      ]
     },
     "execution_count": 8,
     "metadata": {},
     "output_type": "execute_result"
    }
   ],
   "source": [
    "df_stock.info"
   ]
  },
  {
   "cell_type": "code",
   "execution_count": 13,
   "metadata": {},
   "outputs": [
    {
     "data": {
      "text/plain": [
       "8835"
      ]
     },
     "execution_count": 13,
     "metadata": {},
     "output_type": "execute_result"
    }
   ],
   "source": [
    "len(df_stock['act_symbol'].unique())"
   ]
  },
  {
   "cell_type": "code",
   "execution_count": 9,
   "metadata": {},
   "outputs": [],
   "source": [
    "# We merge the two dataframes to have the stock price for each option corresponding to the underlying stock and the date\n",
    "df_options = df_options.merge(df_stock[['date', 'act_symbol', 'open']], on=['date', 'act_symbol'], how='left')"
   ]
  },
  {
   "cell_type": "code",
   "execution_count": 10,
   "metadata": {},
   "outputs": [
    {
     "data": {
      "text/html": [
       "<div>\n",
       "<style scoped>\n",
       "    .dataframe tbody tr th:only-of-type {\n",
       "        vertical-align: middle;\n",
       "    }\n",
       "\n",
       "    .dataframe tbody tr th {\n",
       "        vertical-align: top;\n",
       "    }\n",
       "\n",
       "    .dataframe thead th {\n",
       "        text-align: right;\n",
       "    }\n",
       "</style>\n",
       "<table border=\"1\" class=\"dataframe\">\n",
       "  <thead>\n",
       "    <tr style=\"text-align: right;\">\n",
       "      <th></th>\n",
       "      <th>date</th>\n",
       "      <th>act_symbol</th>\n",
       "      <th>expiration</th>\n",
       "      <th>strike</th>\n",
       "      <th>call_put</th>\n",
       "      <th>bid</th>\n",
       "      <th>ask</th>\n",
       "      <th>vol</th>\n",
       "      <th>delta</th>\n",
       "      <th>gamma</th>\n",
       "      <th>theta</th>\n",
       "      <th>vega</th>\n",
       "      <th>rho</th>\n",
       "      <th>price</th>\n",
       "      <th>open</th>\n",
       "    </tr>\n",
       "  </thead>\n",
       "  <tbody>\n",
       "    <tr>\n",
       "      <th>0</th>\n",
       "      <td>2019-05-10</td>\n",
       "      <td>A</td>\n",
       "      <td>2019-05-17</td>\n",
       "      <td>65.0</td>\n",
       "      <td>Call</td>\n",
       "      <td>10.10</td>\n",
       "      <td>13.35</td>\n",
       "      <td>0.5636</td>\n",
       "      <td>0.9873</td>\n",
       "      <td>0.0055</td>\n",
       "      <td>-0.0185</td>\n",
       "      <td>0.0035</td>\n",
       "      <td>0.0122</td>\n",
       "      <td>11.725</td>\n",
       "      <td>76.64</td>\n",
       "    </tr>\n",
       "    <tr>\n",
       "      <th>1</th>\n",
       "      <td>2019-05-10</td>\n",
       "      <td>A</td>\n",
       "      <td>2019-05-17</td>\n",
       "      <td>65.0</td>\n",
       "      <td>Put</td>\n",
       "      <td>0.01</td>\n",
       "      <td>0.07</td>\n",
       "      <td>0.5636</td>\n",
       "      <td>-0.0127</td>\n",
       "      <td>0.0055</td>\n",
       "      <td>-0.0141</td>\n",
       "      <td>0.0035</td>\n",
       "      <td>-0.0002</td>\n",
       "      <td>0.040</td>\n",
       "      <td>76.64</td>\n",
       "    </tr>\n",
       "    <tr>\n",
       "      <th>2</th>\n",
       "      <td>2019-05-10</td>\n",
       "      <td>A</td>\n",
       "      <td>2019-05-17</td>\n",
       "      <td>70.0</td>\n",
       "      <td>Call</td>\n",
       "      <td>6.60</td>\n",
       "      <td>7.70</td>\n",
       "      <td>0.3212</td>\n",
       "      <td>0.9863</td>\n",
       "      <td>0.0102</td>\n",
       "      <td>-0.0133</td>\n",
       "      <td>0.0037</td>\n",
       "      <td>0.0132</td>\n",
       "      <td>7.150</td>\n",
       "      <td>76.64</td>\n",
       "    </tr>\n",
       "    <tr>\n",
       "      <th>3</th>\n",
       "      <td>2019-05-10</td>\n",
       "      <td>A</td>\n",
       "      <td>2019-05-17</td>\n",
       "      <td>70.0</td>\n",
       "      <td>Put</td>\n",
       "      <td>0.21</td>\n",
       "      <td>0.24</td>\n",
       "      <td>0.5252</td>\n",
       "      <td>-0.0850</td>\n",
       "      <td>0.0278</td>\n",
       "      <td>-0.0619</td>\n",
       "      <td>0.0166</td>\n",
       "      <td>-0.0013</td>\n",
       "      <td>0.225</td>\n",
       "      <td>76.64</td>\n",
       "    </tr>\n",
       "    <tr>\n",
       "      <th>4</th>\n",
       "      <td>2019-05-10</td>\n",
       "      <td>A</td>\n",
       "      <td>2019-05-17</td>\n",
       "      <td>72.5</td>\n",
       "      <td>Call</td>\n",
       "      <td>5.05</td>\n",
       "      <td>5.25</td>\n",
       "      <td>0.4973</td>\n",
       "      <td>0.8252</td>\n",
       "      <td>0.0486</td>\n",
       "      <td>-0.1018</td>\n",
       "      <td>0.0275</td>\n",
       "      <td>0.0112</td>\n",
       "      <td>5.150</td>\n",
       "      <td>76.64</td>\n",
       "    </tr>\n",
       "  </tbody>\n",
       "</table>\n",
       "</div>"
      ],
      "text/plain": [
       "         date act_symbol  expiration  strike call_put    bid    ask     vol  \\\n",
       "0  2019-05-10          A  2019-05-17    65.0     Call  10.10  13.35  0.5636   \n",
       "1  2019-05-10          A  2019-05-17    65.0      Put   0.01   0.07  0.5636   \n",
       "2  2019-05-10          A  2019-05-17    70.0     Call   6.60   7.70  0.3212   \n",
       "3  2019-05-10          A  2019-05-17    70.0      Put   0.21   0.24  0.5252   \n",
       "4  2019-05-10          A  2019-05-17    72.5     Call   5.05   5.25  0.4973   \n",
       "\n",
       "    delta   gamma   theta    vega     rho   price   open  \n",
       "0  0.9873  0.0055 -0.0185  0.0035  0.0122  11.725  76.64  \n",
       "1 -0.0127  0.0055 -0.0141  0.0035 -0.0002   0.040  76.64  \n",
       "2  0.9863  0.0102 -0.0133  0.0037  0.0132   7.150  76.64  \n",
       "3 -0.0850  0.0278 -0.0619  0.0166 -0.0013   0.225  76.64  \n",
       "4  0.8252  0.0486 -0.1018  0.0275  0.0112   5.150  76.64  "
      ]
     },
     "execution_count": 10,
     "metadata": {},
     "output_type": "execute_result"
    }
   ],
   "source": [
    "df_options.head()"
   ]
  },
  {
   "cell_type": "code",
   "execution_count": 11,
   "metadata": {},
   "outputs": [],
   "source": [
    "df_options.rename(columns={'open': 'stock_price'}, inplace=True)"
   ]
  },
  {
   "cell_type": "code",
   "execution_count": 12,
   "metadata": {},
   "outputs": [],
   "source": [
    "df_options['temps_to_maturity'] = (pd.to_datetime(df_options['expiration']) -  pd.to_datetime(df_options['date'])).dt.days / 365\n"
   ]
  },
  {
   "cell_type": "code",
   "execution_count": 13,
   "metadata": {},
   "outputs": [
    {
     "data": {
      "text/plain": [
       "54196"
      ]
     },
     "execution_count": 13,
     "metadata": {},
     "output_type": "execute_result"
    }
   ],
   "source": [
    "df_options['stock_price'].isnull().sum()"
   ]
  },
  {
   "cell_type": "code",
   "execution_count": 14,
   "metadata": {},
   "outputs": [
    {
     "name": "stdout",
     "output_type": "stream",
     "text": [
      "<class 'pandas.core.frame.DataFrame'>\n",
      "RangeIndex: 1000000 entries, 0 to 999999\n",
      "Data columns (total 16 columns):\n",
      " #   Column             Non-Null Count    Dtype  \n",
      "---  ------             --------------    -----  \n",
      " 0   date               1000000 non-null  object \n",
      " 1   act_symbol         1000000 non-null  object \n",
      " 2   expiration         1000000 non-null  object \n",
      " 3   strike             1000000 non-null  float64\n",
      " 4   call_put           1000000 non-null  object \n",
      " 5   bid                1000000 non-null  float64\n",
      " 6   ask                1000000 non-null  float64\n",
      " 7   vol                1000000 non-null  float64\n",
      " 8   delta              1000000 non-null  float64\n",
      " 9   gamma              1000000 non-null  float64\n",
      " 10  theta              1000000 non-null  float64\n",
      " 11  vega               1000000 non-null  float64\n",
      " 12  rho                1000000 non-null  float64\n",
      " 13  price              1000000 non-null  float64\n",
      " 14  stock_price        945804 non-null   float64\n",
      " 15  temps_to_maturity  1000000 non-null  float64\n",
      "dtypes: float64(12), object(4)\n",
      "memory usage: 122.1+ MB\n"
     ]
    }
   ],
   "source": [
    "df_options.info()"
   ]
  },
  {
   "cell_type": "code",
   "execution_count": 15,
   "metadata": {},
   "outputs": [],
   "source": [
    "df_r = pd.read_csv('../../data/options/daily_treasury_rates_2019_2020.csv')"
   ]
  },
  {
   "cell_type": "code",
   "execution_count": 16,
   "metadata": {},
   "outputs": [],
   "source": [
    "df_r['Date'] = pd.to_datetime(df_r['Date'], format='%m/%d/%Y').dt.strftime('%Y-%m-%d')\n"
   ]
  },
  {
   "cell_type": "code",
   "execution_count": 17,
   "metadata": {},
   "outputs": [
    {
     "data": {
      "text/html": [
       "<div>\n",
       "<style scoped>\n",
       "    .dataframe tbody tr th:only-of-type {\n",
       "        vertical-align: middle;\n",
       "    }\n",
       "\n",
       "    .dataframe tbody tr th {\n",
       "        vertical-align: top;\n",
       "    }\n",
       "\n",
       "    .dataframe thead th {\n",
       "        text-align: right;\n",
       "    }\n",
       "</style>\n",
       "<table border=\"1\" class=\"dataframe\">\n",
       "  <thead>\n",
       "    <tr style=\"text-align: right;\">\n",
       "      <th></th>\n",
       "      <th>Date</th>\n",
       "      <th>1 Mo</th>\n",
       "      <th>2 Mo</th>\n",
       "      <th>3 Mo</th>\n",
       "      <th>6 Mo</th>\n",
       "      <th>1 Yr</th>\n",
       "      <th>2 Yr</th>\n",
       "      <th>3 Yr</th>\n",
       "      <th>5 Yr</th>\n",
       "      <th>7 Yr</th>\n",
       "      <th>10 Yr</th>\n",
       "      <th>20 Yr</th>\n",
       "      <th>30 Yr</th>\n",
       "    </tr>\n",
       "  </thead>\n",
       "  <tbody>\n",
       "    <tr>\n",
       "      <th>0</th>\n",
       "      <td>2019-01-02</td>\n",
       "      <td>2.40</td>\n",
       "      <td>2.40</td>\n",
       "      <td>2.42</td>\n",
       "      <td>2.51</td>\n",
       "      <td>2.60</td>\n",
       "      <td>2.50</td>\n",
       "      <td>2.47</td>\n",
       "      <td>2.49</td>\n",
       "      <td>2.56</td>\n",
       "      <td>2.66</td>\n",
       "      <td>2.83</td>\n",
       "      <td>2.97</td>\n",
       "    </tr>\n",
       "    <tr>\n",
       "      <th>1</th>\n",
       "      <td>2020-01-02</td>\n",
       "      <td>1.53</td>\n",
       "      <td>1.55</td>\n",
       "      <td>1.54</td>\n",
       "      <td>1.57</td>\n",
       "      <td>1.56</td>\n",
       "      <td>1.58</td>\n",
       "      <td>1.59</td>\n",
       "      <td>1.67</td>\n",
       "      <td>1.79</td>\n",
       "      <td>1.88</td>\n",
       "      <td>2.19</td>\n",
       "      <td>2.33</td>\n",
       "    </tr>\n",
       "    <tr>\n",
       "      <th>2</th>\n",
       "      <td>2019-01-03</td>\n",
       "      <td>2.42</td>\n",
       "      <td>2.42</td>\n",
       "      <td>2.41</td>\n",
       "      <td>2.47</td>\n",
       "      <td>2.50</td>\n",
       "      <td>2.39</td>\n",
       "      <td>2.35</td>\n",
       "      <td>2.37</td>\n",
       "      <td>2.44</td>\n",
       "      <td>2.56</td>\n",
       "      <td>2.75</td>\n",
       "      <td>2.92</td>\n",
       "    </tr>\n",
       "    <tr>\n",
       "      <th>3</th>\n",
       "      <td>2020-01-03</td>\n",
       "      <td>1.52</td>\n",
       "      <td>1.55</td>\n",
       "      <td>1.52</td>\n",
       "      <td>1.55</td>\n",
       "      <td>1.55</td>\n",
       "      <td>1.53</td>\n",
       "      <td>1.54</td>\n",
       "      <td>1.59</td>\n",
       "      <td>1.71</td>\n",
       "      <td>1.80</td>\n",
       "      <td>2.11</td>\n",
       "      <td>2.26</td>\n",
       "    </tr>\n",
       "    <tr>\n",
       "      <th>4</th>\n",
       "      <td>2019-01-04</td>\n",
       "      <td>2.40</td>\n",
       "      <td>2.42</td>\n",
       "      <td>2.42</td>\n",
       "      <td>2.51</td>\n",
       "      <td>2.57</td>\n",
       "      <td>2.50</td>\n",
       "      <td>2.47</td>\n",
       "      <td>2.49</td>\n",
       "      <td>2.56</td>\n",
       "      <td>2.67</td>\n",
       "      <td>2.83</td>\n",
       "      <td>2.98</td>\n",
       "    </tr>\n",
       "  </tbody>\n",
       "</table>\n",
       "</div>"
      ],
      "text/plain": [
       "         Date  1 Mo  2 Mo  3 Mo  6 Mo  1 Yr  2 Yr  3 Yr  5 Yr  7 Yr  10 Yr  \\\n",
       "0  2019-01-02  2.40  2.40  2.42  2.51  2.60  2.50  2.47  2.49  2.56   2.66   \n",
       "1  2020-01-02  1.53  1.55  1.54  1.57  1.56  1.58  1.59  1.67  1.79   1.88   \n",
       "2  2019-01-03  2.42  2.42  2.41  2.47  2.50  2.39  2.35  2.37  2.44   2.56   \n",
       "3  2020-01-03  1.52  1.55  1.52  1.55  1.55  1.53  1.54  1.59  1.71   1.80   \n",
       "4  2019-01-04  2.40  2.42  2.42  2.51  2.57  2.50  2.47  2.49  2.56   2.67   \n",
       "\n",
       "   20 Yr  30 Yr  \n",
       "0   2.83   2.97  \n",
       "1   2.19   2.33  \n",
       "2   2.75   2.92  \n",
       "3   2.11   2.26  \n",
       "4   2.83   2.98  "
      ]
     },
     "execution_count": 17,
     "metadata": {},
     "output_type": "execute_result"
    }
   ],
   "source": [
    "df_r.head()"
   ]
  }
 ],
 "metadata": {
  "kernelspec": {
   "display_name": "venv_tx",
   "language": "python",
   "name": "python3"
  },
  "language_info": {
   "codemirror_mode": {
    "name": "ipython",
    "version": 3
   },
   "file_extension": ".py",
   "mimetype": "text/x-python",
   "name": "python",
   "nbconvert_exporter": "python",
   "pygments_lexer": "ipython3",
   "version": "3.10.7"
  }
 },
 "nbformat": 4,
 "nbformat_minor": 2
}
